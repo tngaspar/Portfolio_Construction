{
 "cells": [
  {
   "cell_type": "code",
   "execution_count": 21,
   "metadata": {},
   "outputs": [
    {
     "name": "stdout",
     "output_type": "stream",
     "text": [
      "Date\n",
      "2015-12-31    0.000000\n",
      "2016-01-01    0.000000\n",
      "2016-01-04   -0.013410\n",
      "2016-01-05    0.002433\n",
      "2016-01-06   -0.014817\n",
      "                ...   \n",
      "2019-12-25    0.000000\n",
      "2019-12-26    0.002475\n",
      "2019-12-27    0.000831\n",
      "2019-12-30   -0.004129\n",
      "2019-12-31    0.003083\n",
      "Name: Returns_RP, Length: 1044, dtype: float64\n"
     ]
    }
   ],
   "source": [
    "import pyfolio as pf\n",
    "import pandas as pd\n",
    "import datetime as dt\n",
    "\n",
    "daily_returns_rp = pd.Series(pd.read_csv('portfolio_daily_returns.csv')['Returns_RP'])\n",
    "daily_returns_rp.index = pd.to_datetime(pd.read_csv('portfolio_daily_returns.csv')['Date'])\n",
    "\n",
    "print(daily_returns_rp)"
   ]
  },
  {
   "cell_type": "code",
   "execution_count": null,
   "metadata": {},
   "outputs": [],
   "source": [
    "pf.create_returns_tear_sheet(daily_returns_rp)"
   ]
  },
  {
   "cell_type": "code",
   "execution_count": null,
   "metadata": {},
   "outputs": [],
   "source": []
  }
 ],
 "metadata": {
  "kernelspec": {
   "display_name": "Python 3",
   "language": "python",
   "name": "python3"
  },
  "language_info": {
   "codemirror_mode": {
    "name": "ipython",
    "version": 3
   },
   "file_extension": ".py",
   "mimetype": "text/x-python",
   "name": "python",
   "nbconvert_exporter": "python",
   "pygments_lexer": "ipython3",
   "version": "3.8.2"
  }
 },
 "nbformat": 4,
 "nbformat_minor": 4
}
